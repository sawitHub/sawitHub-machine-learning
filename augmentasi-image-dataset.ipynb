{
 "cells": [
  {
   "cell_type": "code",
   "execution_count": 1,
   "id": "07d6ee86-ec4a-4cf3-9a76-7ec546f36b4f",
   "metadata": {},
   "outputs": [],
   "source": [
    "import os\n",
    "import numpy as np\n",
    "from PIL import Image\n",
    "from tensorflow.keras.preprocessing.image import ImageDataGenerator\n"
   ]
  },
  {
   "cell_type": "code",
   "execution_count": 2,
   "id": "b7c3edb2-8ce0-4240-9d86-39012af9473a",
   "metadata": {},
   "outputs": [],
   "source": [
    "datagen = ImageDataGenerator(\n",
    "    rotation_range=10,  # Rotate the image by a certain range (in degrees)\n",
    "    width_shift_range=0.1,  # Shift the width of the image by a fraction\n",
    "    height_shift_range=0.1,  # Shift the height of the image by a fraction\n",
    "    zoom_range=0.1,  # Zoom in or out on the image by a fraction\n",
    "    horizontal_flip=True,  # Flip the image horizontally\n",
    "    fill_mode='nearest'  # Fill in any newly created pixels during augmentation\n",
    ")\n"
   ]
  },
  {
   "cell_type": "code",
   "execution_count": 14,
   "id": "2a2b6cc2-0bcd-496c-91ae-a01512fc0c93",
   "metadata": {},
   "outputs": [],
   "source": [
    "original_dir = 'dataset'\n",
    "augmented_dir = 'augmented_dataset'\n",
    "os.makedirs(augmented_dir, exist_ok=True)"
   ]
  },
  {
   "cell_type": "code",
   "execution_count": 24,
   "id": "4fb48b1b-53ae-4eb7-98b8-8a6d66824944",
   "metadata": {},
   "outputs": [
    {
     "name": "stdout",
     "output_type": "stream",
     "text": [
      "capnodium\n",
      "augmented_dataset\\capnodium\n",
      "cochliobolus\n",
      "augmented_dataset\\cochliobolus\n",
      "culvularia\n",
      "augmented_dataset\\culvularia\n",
      "drecshlera\n",
      "augmented_dataset\\drecshlera\n",
      "hara\n",
      "augmented_dataset\\hara\n",
      "normal\n",
      "augmented_dataset\\normal\n"
     ]
    }
   ],
   "source": [
    "for label_folder in os.listdir(original_dir):\n",
    "    print(label_folder)\n",
    "    label_folder_path = os.path.join(original_dir, label_folder)\n",
    "    if not os.path.isdir(label_folder_path):\n",
    "        continue  # Skip non-folder files\n",
    "    \n",
    "    augmented_label_folder = os.path.join(augmented_dir, label_folder)\n",
    "    print(augmented_label_folder)\n",
    "    os.makedirs(augmented_label_folder, exist_ok=True)\n",
    "    \n",
    "    for filename in os.listdir(label_folder_path):\n",
    "        img_path = os.path.join(label_folder_path, filename)\n",
    "        img = Image.open(img_path)\n",
    "        img_array = np.array(img)\n",
    "        img_array = img_array.reshape((1,) + img_array.shape)  # Reshape for flow method\n",
    "\n",
    "        # Generate augmented images and save them in the augmented label folder\n",
    "        total_augmented = 0\n",
    "        for batch in datagen.flow(img_array, batch_size=1, save_to_dir=augmented_label_folder, save_prefix='augmented', save_format='jpeg'):\n",
    "            total_augmented += 1\n",
    "            if total_augmented >= 5:  # Number of augmented images to generate\n",
    "                break\n",
    "\n"
   ]
  },
  {
   "cell_type": "code",
   "execution_count": 16,
   "id": "596c02b5-5639-4e57-88c7-8b680f91e194",
   "metadata": {},
   "outputs": [],
   "source": [
    "\n"
   ]
  },
  {
   "cell_type": "code",
   "execution_count": null,
   "id": "1e21f55c-8a4f-456f-99c6-504e723e457d",
   "metadata": {},
   "outputs": [],
   "source": []
  }
 ],
 "metadata": {
  "kernelspec": {
   "display_name": "Python 3 (ipykernel)",
   "language": "python",
   "name": "python3"
  },
  "language_info": {
   "codemirror_mode": {
    "name": "ipython",
    "version": 3
   },
   "file_extension": ".py",
   "mimetype": "text/x-python",
   "name": "python",
   "nbconvert_exporter": "python",
   "pygments_lexer": "ipython3",
   "version": "3.9.7"
  }
 },
 "nbformat": 4,
 "nbformat_minor": 5
}
